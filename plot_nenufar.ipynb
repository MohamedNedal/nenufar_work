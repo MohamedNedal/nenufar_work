{
 "cells": [
  {
   "cell_type": "markdown",
   "id": "102f0cca-99ce-4c2e-9205-0bb8273901cc",
   "metadata": {},
   "source": [
    "Clean notebook to plot Stokes parameters of NenuFAR dynamic spectra"
   ]
  },
  {
   "cell_type": "code",
   "execution_count": null,
   "id": "1833ee85-d29e-4cd2-8c24-13b35c6646b5",
   "metadata": {},
   "outputs": [],
   "source": []
  }
 ],
 "metadata": {
  "kernelspec": {
   "display_name": "myenv38",
   "language": "python",
   "name": "myenv38"
  },
  "language_info": {
   "codemirror_mode": {
    "name": "ipython",
    "version": 3
   },
   "file_extension": ".py",
   "mimetype": "text/x-python",
   "name": "python",
   "nbconvert_exporter": "python",
   "pygments_lexer": "ipython3",
   "version": "3.8.20"
  }
 },
 "nbformat": 4,
 "nbformat_minor": 5
}
