{
 "cells": [
  {
   "cell_type": "markdown",
   "id": "f984163b-7d71-4497-9cf9-71bd800d0c07",
   "metadata": {},
   "source": [
    "* Plot radio dynamic spectra from ORFEES and NenuFAR.\n",
    "* Plot timeseries of STIX, ORFEES, and NenuFAR."
   ]
  },
  {
   "cell_type": "code",
   "execution_count": 1,
   "id": "fdf1a1c9-54f7-4fdb-9640-7250cb9899db",
   "metadata": {},
   "outputs": [],
   "source": [
    "import warnings\n",
    "warnings.filterwarnings('ignore')\n",
    "import glob\n",
    "import numpy as np\n",
    "import pandas as pd\n",
    "from datetime import datetime, timedelta\n",
    "import astropy.units as u\n",
    "from astropy.time import Time\n",
    "from astropy.io import fits\n",
    "from sunpy.net import Fido, attrs as a\n",
    "from sunpy.timeseries import TimeSeries\n",
    "from radiospectra.spectrogram2 import Spectrogram\n",
    "from stixpy.net.client import STIXClient  # This registers the STIX client with Fido\n",
    "from stixpy.product import Product\n",
    "import matplotlib.pyplot as plt\n",
    "import matplotlib.dates as mdates\n",
    "import matplotlib.ticker as ticker\n",
    "from matplotlib.colors import LogNorm\n",
    "from matplotlib.collections import QuadMesh\n",
    "import matplotlib as mpl\n",
    "mpl.rcParams.update({'font.size': 14})\n",
    "mpl.rcParams['date.epoch'] = '1970-01-01T00:00:00' # use precise epoch\n",
    "try: mdates.set_epoch('1970-01-01T00:00:00')\n",
    "except: pass\n",
    "\n",
    "# import time, os\n",
    "\n",
    "data_dir = '/home/mnedal/data'"
   ]
  },
  {
   "cell_type": "code",
   "execution_count": 2,
   "id": "75d445e6-be1b-4713-a97e-2cb2293830a7",
   "metadata": {},
   "outputs": [],
   "source": [
    "mydate = '2025-03-25'\n",
    "\n",
    "year, month, day = mydate.split('-')"
   ]
  },
  {
   "cell_type": "code",
   "execution_count": 4,
   "id": "4067db99-bb52-4988-b85a-212ad5a97cc1",
   "metadata": {},
   "outputs": [],
   "source": [
    "files = glob.glob(f'{data_dir}/int_orf{year}{month}{day}_*.fts')\n",
    "\n",
    "orfees = fits.open(files[0])\n",
    "orfees_i = np.hstack([orfees[2].data[f'STOKESI_B{i}'] for i in range(1, 6)]).T\n",
    "orfees_data = orfees_i.T"
   ]
  },
  {
   "cell_type": "code",
   "execution_count": null,
   "id": "0970bfa3-2828-4da3-8108-7ebd2826249e",
   "metadata": {},
   "outputs": [],
   "source": []
  },
  {
   "cell_type": "code",
   "execution_count": null,
   "id": "2dab29fc-9334-4f94-90c5-ec3045072511",
   "metadata": {},
   "outputs": [],
   "source": []
  },
  {
   "cell_type": "code",
   "execution_count": null,
   "id": "2c0f0218-a198-4a96-ac10-f5c08b309e8f",
   "metadata": {},
   "outputs": [],
   "source": []
  },
  {
   "cell_type": "code",
   "execution_count": null,
   "id": "5873912b-b86e-4fb9-87f2-095fc1d9f5db",
   "metadata": {},
   "outputs": [],
   "source": [
    "\n",
    "\n",
    "\n",
    "# Remove the background by taking the data from the quiet background and divide it by the data\n",
    "for i in range(data.shape[0]):\n",
    "\tdata[i] = data[i]/data[35000]\n",
    "\n",
    "data = data.T\n",
    "#pdb.set_trace()\n",
    "\n",
    "orfees_time_str = orfees[0].header['DATE-OBS']\n",
    "orfees_times = Time(orfees_time_str) + (orfees[2].data['TIME_B1']/1000)*u.s # times are not the same for all sub spectra!\n",
    "orfees_freqs = np.hstack([orfees[1].data[f'FREQ_B{i}'] for i in range(1, 6)]) *u.MHz\n",
    "\n",
    "orfees_meta = {\n",
    "    'observatory': orfees[0].header['ORIGIN'],\n",
    "    'instrument': orfees[0].header['INSTRUME'],\n",
    "    'detector': orfees[0].header['INSTRUME'],\n",
    "    'freqs': orfees_freqs.reshape(-1),\n",
    "    'times': orfees_times,\n",
    "    'wavelength': a.Wavelength(orfees_freqs[0,0], orfees_freqs[0,-1]),\n",
    "    'start_time': orfees_times[0],\n",
    "    'end_time': orfees_times[-1]\n",
    "}\n",
    "\n",
    "###### Plot the spec\n",
    "orfees_spec_i = Spectrogram(data, orfees_meta)\n",
    "#pdb.set_trace()\n",
    "vmm = np.percentile(orfees_spec_i.data, [1,96])\n",
    "fig = plt.figure(figsize=(12, 7))\n",
    "ax = fig.add_subplot(111)\n",
    "#orfees_spec_i.plot(axes = ax, norm=LogNorm(vmin=vmm[0], vmax=vmm[1]), cmap = 'Spectral_r')\n",
    "orfees_spec_i.plot(axes = ax, vmin=vmm[0], vmax=vmm[1], cmap = 'Spectral_r')\n",
    "ax.set_ylim(143,500)\n",
    "plt.show()"
   ]
  },
  {
   "cell_type": "code",
   "execution_count": null,
   "id": "c26f6f56-991a-44aa-a8b0-afd03e808bc8",
   "metadata": {},
   "outputs": [],
   "source": []
  },
  {
   "cell_type": "code",
   "execution_count": null,
   "id": "6da4a192-76d4-42e1-8811-f7811d4a600d",
   "metadata": {},
   "outputs": [],
   "source": []
  },
  {
   "cell_type": "code",
   "execution_count": null,
   "id": "6451271d-2a03-4249-aa58-e05dc936424a",
   "metadata": {},
   "outputs": [],
   "source": []
  },
  {
   "cell_type": "code",
   "execution_count": null,
   "id": "c0a8ef31-4059-4133-ab5a-b9f92030eff0",
   "metadata": {},
   "outputs": [],
   "source": []
  }
 ],
 "metadata": {
  "kernelspec": {
   "display_name": "myenv38",
   "language": "python",
   "name": "myenv38"
  },
  "language_info": {
   "codemirror_mode": {
    "name": "ipython",
    "version": 3
   },
   "file_extension": ".py",
   "mimetype": "text/x-python",
   "name": "python",
   "nbconvert_exporter": "python",
   "pygments_lexer": "ipython3",
   "version": "3.8.20"
  }
 },
 "nbformat": 4,
 "nbformat_minor": 5
}
